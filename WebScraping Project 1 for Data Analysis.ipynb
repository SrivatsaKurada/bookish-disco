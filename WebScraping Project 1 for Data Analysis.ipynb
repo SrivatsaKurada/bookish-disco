{
 "cells": [
  {
   "cell_type": "markdown",
   "id": "7435f031",
   "metadata": {},
   "source": [
    "# Scope\n",
    "### To create a dataset from the weekend performance page of Box Office Mojo."
   ]
  },
  {
   "attachments": {
    "image-2.png": {
     "image/png": "[encoded data removed]"
    }
   },
   "cell_type": "markdown",
   "id": "405285ed",
   "metadata": {},
   "source": [
    "## Step 1: Check if website allows web-scraping.\n",
    "\n",
    "![image-2.png](attachment:image-2.png)"
   ]
  },
  {
   "cell_type": "markdown",
   "id": "7af29f80",
   "metadata": {},
   "source": [
    "## Building Scraper Components"
   ]
  },
  {
   "cell_type": "code",
   "execution_count": 45,
   "id": "c1be0fbc",
   "metadata": {},
   "outputs": [],
   "source": [
    "import requests\n",
    "import bs4 #library to scrape information from webpages. Also known as Beatiful Soup \n",
    "from bs4 import BeautifulSoup\n",
    "\n",
    "import pandas as pd\n",
    "import time #\"time\" is being used to not overwhelm site's servers when scrapping information. Its a helpful way of staggering page requets.\n",
    "import numpy"
   ]
  },
  {
   "cell_type": "markdown",
   "id": "bc9363dc",
   "metadata": {},
   "source": [
    "## Step 2: Determining the URL"
   ]
  },
  {
   "cell_type": "code",
   "execution_count": 46,
   "id": "c87d6e47",
   "metadata": {},
   "outputs": [],
   "source": [
    "URL = 'https://www.boxofficemojo.com/weekend/by-year/2022/'"
   ]
  },
  {
   "cell_type": "markdown",
   "id": "c116418e",
   "metadata": {},
   "source": [
    "## Step 3: Making request to the URL"
   ]
  },
  {
   "cell_type": "code",
   "execution_count": 47,
   "id": "3d3d9134",
   "metadata": {},
   "outputs": [],
   "source": [
    "#conducting a request of the stated URL above:\n",
    "page = requests.get(URL)\n",
    "content = page.text"
   ]
  },
  {
   "cell_type": "markdown",
   "id": "ea34d19e",
   "metadata": {},
   "source": [
    "## Step 4: Use Beautiful Soup"
   ]
  },
  {
   "cell_type": "code",
   "execution_count": 48,
   "id": "f594961b",
   "metadata": {},
   "outputs": [],
   "source": [
    "soup = BeautifulSoup(content)"
   ]
  },
  {
   "cell_type": "markdown",
   "id": "a7d2a5bd",
   "metadata": {},
   "source": [
    "## Step 5: Inspect page data to determine out to set up the scraping algroithm"
   ]
  },
  {
   "cell_type": "markdown",
   "id": "494d9aad",
   "metadata": {},
   "source": [
    "Tabular data visible in a page will be put in 'tr' tags. But there are exeptions like special occasions."
   ]
  },
  {
   "cell_type": "code",
   "execution_count": 49,
   "id": "02d7e50f",
   "metadata": {},
   "outputs": [],
   "source": [
    "rows = soup.findAll('tr')"
   ]
  },
  {
   "cell_type": "code",
   "execution_count": 50,
   "id": "d893da42",
   "metadata": {},
   "outputs": [],
   "source": [
    "data = rows[8].findAll('td')"
   ]
  },
  {
   "cell_type": "code",
   "execution_count": 51,
   "id": "bf5b3b9b",
   "metadata": {},
   "outputs": [
    {
     "data": {
      "text/plain": [
       "[<td class=\"a-text-left mojo-header-column mojo-truncate mojo-field-type-date_interval mojo-sort-column\"><a class=\"a-link-normal\" href=\"/weekend/2022W47/?ref_=bo_wey_table_8\">Nov 25-27</a><div class=\"a-section a-spacing-none\"><span class=\"a-size-small a-color-secondary\">Thanksgiving 3-Day<br/>World Cup (Qatar)</span></div></td>,\n",
       " <td class=\"a-text-right mojo-field-type-money\">$89,735,916</td>,\n",
       " <td class=\"a-text-right mojo-number-negative mojo-number-delta mojo-field-type-percent_delta\">-9.4%</td>,\n",
       " <td class=\"a-text-right mojo-field-type-money mojo-estimatable\">$93,780,231</td>,\n",
       " <td class=\"a-text-right mojo-number-negative mojo-number-delta mojo-field-type-percent_delta mojo-estimatable\">-6.9%</td>,\n",
       " <td class=\"a-text-right mojo-field-type-positive_integer\">49</td>,\n",
       " <td class=\"a-text-left mojo-field-type-release mojo-cell-wide\"><a class=\"a-link-normal\" href=\"/release/rl3573908993/?ref_=bo_wey_table_8\">Black Panther: Wakanda Forever</a></td>,\n",
       " <td class=\"a-text-left mojo-field-type-genre hidden\">-</td>,\n",
       " <td class=\"a-text-right mojo-field-type-money hidden\">-</td>,\n",
       " <td class=\"a-text-right mojo-field-type-duration hidden\">-</td>,\n",
       " <td class=\"a-text-right mojo-field-type-date_interval\"><a class=\"a-link-normal\" href=\"/weekend/2022W47/?ref_=bo_wey_table_8\">47</a></td>,\n",
       " <td class=\"a-text-right mojo-field-type-boolean hidden\">false</td>]"
      ]
     },
     "execution_count": 51,
     "metadata": {},
     "output_type": "execute_result"
    }
   ],
   "source": [
    "data"
   ]
  },
  {
   "cell_type": "code",
   "execution_count": 52,
   "id": "47d2471c",
   "metadata": {},
   "outputs": [
    {
     "data": {
      "text/plain": [
       "'Nov 25-27'"
      ]
     },
     "execution_count": 52,
     "metadata": {},
     "output_type": "execute_result"
    }
   ],
   "source": [
    "#Date when there is a special occassion listed\n",
    "data[0].findAll('a')[0].text"
   ]
  },
  {
   "cell_type": "code",
   "execution_count": 53,
   "id": "e6b8d0d5",
   "metadata": {},
   "outputs": [
    {
     "data": {
      "text/plain": [
       "'Thanksgiving 3-DayWorld Cup (Qatar)'"
      ]
     },
     "execution_count": 53,
     "metadata": {},
     "output_type": "execute_result"
    }
   ],
   "source": [
    "#Special occasion that is listed\n",
    "data[0].findAll('span')[0].text"
   ]
  },
  {
   "cell_type": "code",
   "execution_count": 54,
   "id": "48f90165",
   "metadata": {},
   "outputs": [
    {
     "data": {
      "text/plain": [
       "[<span class=\"a-size-small a-color-secondary\">Thanksgiving 3-Day<br/>World Cup (Qatar)</span>]"
      ]
     },
     "execution_count": 54,
     "metadata": {},
     "output_type": "execute_result"
    }
   ],
   "source": [
    "data[0].findAll('span')"
   ]
  },
  {
   "cell_type": "markdown",
   "id": "0d14726c",
   "metadata": {},
   "source": [
    "## Step 6: Test data construction"
   ]
  },
  {
   "cell_type": "code",
   "execution_count": 58,
   "id": "954713b1",
   "metadata": {},
   "outputs": [],
   "source": [
    "appended_data = []\n",
    "for row in rows:\n",
    "    data_row = {}\n",
    "    data = row.findAll('td')\n",
    "    if len(data) == 0:\n",
    "        continue\n",
    "    if len(data[0].findAll('span')) > 0:\n",
    "        #special weekend\n",
    "        data_row['occassion'] = data[0].findAll('span')[0].text\n",
    "        data_row['date'] = data[0].findAll('a')[0].text\n",
    "    else:\n",
    "        #normal weekend\n",
    "        data_row['occassion'] = \"\"\n",
    "        data_row['date'] = data[0].text\n",
    "    data_row['top10_gross'] = data[1].text\n",
    "    data_row['top10_wow_change'] = data[2].text\n",
    "    data_row['overall_gross'] = data[3].text\n",
    "    data_row['overall_wow_change'] = data[4].text\n",
    "    data_row['releases'] = data[5].text\n",
    "    data_row['top_release'] = data[6].text\n",
    "    data_row['week_number'] = data[10].text\n",
    "    appended_data.append(data_row)\n",
    "weekend_data = pd.DataFrame(appended_data, columns = ['date','occassion','top10_gross','top_wow_change','overall_gross','overall_wow_change',\n",
    "                                                    'releases','top_release','week_number'])"
   ]
  },
  {
   "cell_type": "code",
   "execution_count": 59,
   "id": "0b2f8f8c",
   "metadata": {},
   "outputs": [
    {
     "data": {
      "text/html": [
       "<div>\n",
       "<style scoped>\n",
       "    .dataframe tbody tr th:only-of-type {\n",
       "        vertical-align: middle;\n",
       "    }\n",
       "\n",
       "    .dataframe tbody tr th {\n",
       "        vertical-align: top;\n",
       "    }\n",
       "\n",
       "    .dataframe thead th {\n",
       "        text-align: right;\n",
       "    }\n",
       "</style>\n",
       "<table border=\"1\" class=\"dataframe\">\n",
       "  <thead>\n",
       "    <tr style=\"text-align: right;\">\n",
       "      <th></th>\n",
       "      <th>date</th>\n",
       "      <th>occassion</th>\n",
       "      <th>top10_gross</th>\n",
       "      <th>top_wow_change</th>\n",
       "      <th>overall_gross</th>\n",
       "      <th>overall_wow_change</th>\n",
       "      <th>releases</th>\n",
       "      <th>top_release</th>\n",
       "      <th>week_number</th>\n",
       "    </tr>\n",
       "  </thead>\n",
       "  <tbody>\n",
       "    <tr>\n",
       "      <th>0</th>\n",
       "      <td>Dec 30-Jan 1, 2023</td>\n",
       "      <td></td>\n",
       "      <td>$102,074,088</td>\n",
       "      <td>NaN</td>\n",
       "      <td>$103,224,144</td>\n",
       "      <td>+9%</td>\n",
       "      <td>41</td>\n",
       "      <td>Avatar: The Way of Water</td>\n",
       "      <td>52</td>\n",
       "    </tr>\n",
       "    <tr>\n",
       "      <th>1</th>\n",
       "      <td>Dec 30-Jan 2, 2023</td>\n",
       "      <td>New Year's long wknd</td>\n",
       "      <td>$134,622,744</td>\n",
       "      <td>NaN</td>\n",
       "      <td>$136,047,635</td>\n",
       "      <td>-</td>\n",
       "      <td>39</td>\n",
       "      <td>Avatar: The Way of Water</td>\n",
       "      <td>52</td>\n",
       "    </tr>\n",
       "    <tr>\n",
       "      <th>2</th>\n",
       "      <td>Dec 23-26</td>\n",
       "      <td>Christmas long wknd</td>\n",
       "      <td>$141,716,017</td>\n",
       "      <td>NaN</td>\n",
       "      <td>$142,814,390</td>\n",
       "      <td>-</td>\n",
       "      <td>33</td>\n",
       "      <td>Avatar: The Way of Water</td>\n",
       "      <td>51</td>\n",
       "    </tr>\n",
       "    <tr>\n",
       "      <th>3</th>\n",
       "      <td>Dec 23-25</td>\n",
       "      <td></td>\n",
       "      <td>$93,952,740</td>\n",
       "      <td>NaN</td>\n",
       "      <td>$94,711,196</td>\n",
       "      <td>-38.1%</td>\n",
       "      <td>35</td>\n",
       "      <td>Avatar: The Way of Water</td>\n",
       "      <td>51</td>\n",
       "    </tr>\n",
       "    <tr>\n",
       "      <th>4</th>\n",
       "      <td>Dec 16-18</td>\n",
       "      <td>World Cup (Qatar)</td>\n",
       "      <td>$151,354,815</td>\n",
       "      <td>NaN</td>\n",
       "      <td>$152,947,812</td>\n",
       "      <td>+305.6%</td>\n",
       "      <td>50</td>\n",
       "      <td>Avatar: The Way of Water</td>\n",
       "      <td>50</td>\n",
       "    </tr>\n",
       "  </tbody>\n",
       "</table>\n",
       "</div>"
      ],
      "text/plain": [
       "                 date             occassion   top10_gross  top_wow_change  \\\n",
       "0  Dec 30-Jan 1, 2023                        $102,074,088             NaN   \n",
       "1  Dec 30-Jan 2, 2023  New Year's long wknd  $134,622,744             NaN   \n",
       "2           Dec 23-26   Christmas long wknd  $141,716,017             NaN   \n",
       "3           Dec 23-25                         $93,952,740             NaN   \n",
       "4           Dec 16-18     World Cup (Qatar)  $151,354,815             NaN   \n",
       "\n",
       "  overall_gross overall_wow_change releases               top_release  \\\n",
       "0  $103,224,144                +9%       41  Avatar: The Way of Water   \n",
       "1  $136,047,635                  -       39  Avatar: The Way of Water   \n",
       "2  $142,814,390                  -       33  Avatar: The Way of Water   \n",
       "3   $94,711,196             -38.1%       35  Avatar: The Way of Water   \n",
       "4  $152,947,812            +305.6%       50  Avatar: The Way of Water   \n",
       "\n",
       "  week_number  \n",
       "0          52  \n",
       "1          52  \n",
       "2          51  \n",
       "3          51  \n",
       "4          50  "
      ]
     },
     "execution_count": 59,
     "metadata": {},
     "output_type": "execute_result"
    }
   ],
   "source": [
    "weekend_data.head()"
   ]
  },
  {
   "cell_type": "markdown",
   "id": "88217027",
   "metadata": {},
   "source": [
    "## Step 7: Save to Excel or CSV file"
   ]
  },
  {
   "cell_type": "code",
   "execution_count": 60,
   "id": "583a7d55",
   "metadata": {},
   "outputs": [],
   "source": [
    "weekend_data.to_csv('Movie_data.csv')"
   ]
  }
 ],
 "metadata": {
  "kernelspec": {
   "display_name": "Python 3 (ipykernel)",
   "language": "python",
   "name": "python3"
  },
  "language_info": {
   "codemirror_mode": {
    "name": "ipython",
    "version": 3
   },
   "file_extension": ".py",
   "mimetype": "text/x-python",
   "name": "python",
   "nbconvert_exporter": "python",
   "pygments_lexer": "ipython3",
   "version": "3.11.4"
  }
 },
 "nbformat": 4,
 "nbformat_minor": 5
}
